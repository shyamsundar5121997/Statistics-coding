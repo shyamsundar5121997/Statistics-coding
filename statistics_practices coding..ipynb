{
 "cells": [
  {
   "cell_type": "code",
   "execution_count": 1,
   "metadata": {},
   "outputs": [],
   "source": [
    "data=[23, 24, 32, 45, 12, 43, 67, 45, 32, 56, 32]"
   ]
  },
  {
   "cell_type": "code",
   "execution_count": 2,
   "metadata": {},
   "outputs": [
    {
     "data": {
      "text/plain": [
       "[23, 24, 32, 45, 12, 43, 67, 45, 32, 56, 32]"
      ]
     },
     "execution_count": 2,
     "metadata": {},
     "output_type": "execute_result"
    }
   ],
   "source": [
    "data"
   ]
  },
  {
   "cell_type": "code",
   "execution_count": 7,
   "metadata": {},
   "outputs": [],
   "source": [
    "data_copy=data.copy()"
   ]
  },
  {
   "cell_type": "code",
   "execution_count": 8,
   "metadata": {},
   "outputs": [
    {
     "data": {
      "text/plain": [
       "[12, 23, 24, 32, 32, 32, 43, 45, 45, 56, 67]"
      ]
     },
     "execution_count": 8,
     "metadata": {},
     "output_type": "execute_result"
    }
   ],
   "source": [
    "data_copy"
   ]
  },
  {
   "cell_type": "code",
   "execution_count": null,
   "metadata": {},
   "outputs": [],
   "source": [
    "## histogram plot."
   ]
  },
  {
   "cell_type": "code",
   "execution_count": 4,
   "metadata": {},
   "outputs": [],
   "source": [
    "import seaborn as sns"
   ]
  },
  {
   "cell_type": "code",
   "execution_count": 5,
   "metadata": {},
   "outputs": [
    {
     "data": {
      "text/plain": [
       "<AxesSubplot:ylabel='Count'>"
      ]
     },
     "execution_count": 5,
     "metadata": {},
     "output_type": "execute_result"
    },
    {
     "data": {
      "image/png": "[encoded data removed]",
      "text/plain": [
       "<Figure size 432x288 with 1 Axes>"
      ]
     },
     "metadata": {
      "needs_background": "light"
     },
     "output_type": "display_data"
    }
   ],
   "source": [
    "sns.histplot(data)"
   ]
  },
  {
   "cell_type": "code",
   "execution_count": 9,
   "metadata": {},
   "outputs": [
    {
     "data": {
      "text/plain": [
       "<AxesSubplot:ylabel='Count'>"
      ]
     },
     "execution_count": 9,
     "metadata": {},
     "output_type": "execute_result"
    },
    {
     "data": {
      "image/png": "[encoded data removed]",
      "text/plain": [
       "<Figure size 432x288 with 1 Axes>"
      ]
     },
     "metadata": {
      "needs_background": "light"
     },
     "output_type": "display_data"
    }
   ],
   "source": [
    "sns.histplot(data,kde=True)"
   ]
  },
  {
   "cell_type": "code",
   "execution_count": 10,
   "metadata": {},
   "outputs": [],
   "source": [
    "import pandas as pd\n",
    "data1=pd.read_csv(\"https://raw.githubusercontent.com/sunnysavita10/Statistics_With_Python/main/Iris.csv\")"
   ]
  },
  {
   "cell_type": "code",
   "execution_count": 11,
   "metadata": {},
   "outputs": [
    {
     "data": {
      "text/html": [
       "<div>\n",
       "<style scoped>\n",
       "    .dataframe tbody tr th:only-of-type {\n",
       "        vertical-align: middle;\n",
       "    }\n",
       "\n",
       "    .dataframe tbody tr th {\n",
       "        vertical-align: top;\n",
       "    }\n",
       "\n",
       "    .dataframe thead th {\n",
       "        text-align: right;\n",
       "    }\n",
       "</style>\n",
       "<table border=\"1\" class=\"dataframe\">\n",
       "  <thead>\n",
       "    <tr style=\"text-align: right;\">\n",
       "      <th></th>\n",
       "      <th>Id</th>\n",
       "      <th>SepalLengthCm</th>\n",
       "      <th>SepalWidthCm</th>\n",
       "      <th>PetalLengthCm</th>\n",
       "      <th>PetalWidthCm</th>\n",
       "      <th>Species</th>\n",
       "    </tr>\n",
       "  </thead>\n",
       "  <tbody>\n",
       "    <tr>\n",
       "      <th>0</th>\n",
       "      <td>1</td>\n",
       "      <td>5.1</td>\n",
       "      <td>3.5</td>\n",
       "      <td>1.4</td>\n",
       "      <td>0.2</td>\n",
       "      <td>Iris-setosa</td>\n",
       "    </tr>\n",
       "    <tr>\n",
       "      <th>1</th>\n",
       "      <td>2</td>\n",
       "      <td>4.9</td>\n",
       "      <td>3.0</td>\n",
       "      <td>1.4</td>\n",
       "      <td>0.2</td>\n",
       "      <td>Iris-setosa</td>\n",
       "    </tr>\n",
       "    <tr>\n",
       "      <th>2</th>\n",
       "      <td>3</td>\n",
       "      <td>4.7</td>\n",
       "      <td>3.2</td>\n",
       "      <td>1.3</td>\n",
       "      <td>0.2</td>\n",
       "      <td>Iris-setosa</td>\n",
       "    </tr>\n",
       "    <tr>\n",
       "      <th>3</th>\n",
       "      <td>4</td>\n",
       "      <td>4.6</td>\n",
       "      <td>3.1</td>\n",
       "      <td>1.5</td>\n",
       "      <td>0.2</td>\n",
       "      <td>Iris-setosa</td>\n",
       "    </tr>\n",
       "    <tr>\n",
       "      <th>4</th>\n",
       "      <td>5</td>\n",
       "      <td>5.0</td>\n",
       "      <td>3.6</td>\n",
       "      <td>1.4</td>\n",
       "      <td>0.2</td>\n",
       "      <td>Iris-setosa</td>\n",
       "    </tr>\n",
       "  </tbody>\n",
       "</table>\n",
       "</div>"
      ],
      "text/plain": [
       "   Id  SepalLengthCm  SepalWidthCm  PetalLengthCm  PetalWidthCm      Species\n",
       "0   1            5.1           3.5            1.4           0.2  Iris-setosa\n",
       "1   2            4.9           3.0            1.4           0.2  Iris-setosa\n",
       "2   3            4.7           3.2            1.3           0.2  Iris-setosa\n",
       "3   4            4.6           3.1            1.5           0.2  Iris-setosa\n",
       "4   5            5.0           3.6            1.4           0.2  Iris-setosa"
      ]
     },
     "execution_count": 11,
     "metadata": {},
     "output_type": "execute_result"
    }
   ],
   "source": [
    "data1.head()"
   ]
  },
  {
   "cell_type": "code",
   "execution_count": 12,
   "metadata": {},
   "outputs": [
    {
     "data": {
      "text/plain": [
       "<AxesSubplot:xlabel='SepalLengthCm', ylabel='Count'>"
      ]
     },
     "execution_count": 12,
     "metadata": {},
     "output_type": "execute_result"
    },
    {
     "data": {
      "image/png": "[encoded data removed]",
      "text/plain": [
       "<Figure size 432x288 with 1 Axes>"
      ]
     },
     "metadata": {
      "needs_background": "light"
     },
     "output_type": "display_data"
    }
   ],
   "source": [
    "sns.histplot(data1[\"SepalLengthCm\"])"
   ]
  },
  {
   "cell_type": "code",
   "execution_count": 13,
   "metadata": {},
   "outputs": [
    {
     "data": {
      "text/plain": [
       "<AxesSubplot:xlabel='SepalLengthCm', ylabel='Count'>"
      ]
     },
     "execution_count": 13,
     "metadata": {},
     "output_type": "execute_result"
    },
    {
     "data": {
      "image/png": "[encoded data removed]",
      "text/plain": [
       "<Figure size 432x288 with 1 Axes>"
      ]
     },
     "metadata": {
      "needs_background": "light"
     },
     "output_type": "display_data"
    }
   ],
   "source": [
    "sns.histplot(data1[\"SepalLengthCm\"],kde=True) #"
   ]
  },
  {
   "cell_type": "code",
   "execution_count": 14,
   "metadata": {},
   "outputs": [
    {
     "data": {
      "text/plain": [
       "<AxesSubplot:xlabel='SepalWidthCm', ylabel='Count'>"
      ]
     },
     "execution_count": 14,
     "metadata": {},
     "output_type": "execute_result"
    },
    {
     "data": {
      "image/png": "[encoded data removed]",
      "text/plain": [
       "<Figure size 432x288 with 1 Axes>"
      ]
     },
     "metadata": {
      "needs_background": "light"
     },
     "output_type": "display_data"
    }
   ],
   "source": [
    "sns.histplot(data1[\"SepalWidthCm\"],kde=True)"
   ]
  },
  {
   "cell_type": "code",
   "execution_count": 15,
   "metadata": {},
   "outputs": [
    {
     "data": {
      "text/plain": [
       "<AxesSubplot:xlabel='PetalLengthCm', ylabel='Count'>"
      ]
     },
     "execution_count": 15,
     "metadata": {},
     "output_type": "execute_result"
    },
    {
     "data": {
      "image/png": "[encoded data removed]",
      "text/plain": [
       "<Figure size 432x288 with 1 Axes>"
      ]
     },
     "metadata": {
      "needs_background": "light"
     },
     "output_type": "display_data"
    }
   ],
   "source": [
    "sns.histplot(data1[\"PetalLengthCm\"],kde=True) # kernal density estimation."
   ]
  },
  {
   "cell_type": "code",
   "execution_count": 16,
   "metadata": {},
   "outputs": [
    {
     "data": {
      "text/plain": [
       "[12, 23, 24, 32, 32, 32, 43, 45, 45, 56, 67]"
      ]
     },
     "execution_count": 16,
     "metadata": {},
     "output_type": "execute_result"
    }
   ],
   "source": [
    "data"
   ]
  },
  {
   "cell_type": "code",
   "execution_count": 17,
   "metadata": {},
   "outputs": [],
   "source": [
    "data_copy1=data.copy()"
   ]
  },
  {
   "cell_type": "code",
   "execution_count": 18,
   "metadata": {},
   "outputs": [
    {
     "data": {
      "text/plain": [
       "[12, 23, 24, 32, 32, 32, 43, 45, 45, 56, 67]"
      ]
     },
     "execution_count": 18,
     "metadata": {},
     "output_type": "execute_result"
    }
   ],
   "source": [
    "data_copy1"
   ]
  },
  {
   "cell_type": "code",
   "execution_count": 25,
   "metadata": {},
   "outputs": [],
   "source": [
    "data_copy1[0]=-75"
   ]
  },
  {
   "cell_type": "code",
   "execution_count": 26,
   "metadata": {},
   "outputs": [
    {
     "data": {
      "text/plain": [
       "[-75, 12, 23, 24, 32, 32, 32, 43, 45, 45, 56, 67]"
      ]
     },
     "execution_count": 26,
     "metadata": {},
     "output_type": "execute_result"
    }
   ],
   "source": [
    "data_copy1"
   ]
  },
  {
   "cell_type": "code",
   "execution_count": 27,
   "metadata": {},
   "outputs": [
    {
     "data": {
      "text/plain": [
       "<AxesSubplot:ylabel='Count'>"
      ]
     },
     "execution_count": 27,
     "metadata": {},
     "output_type": "execute_result"
    },
    {
     "data": {
      "image/png": "[encoded data removed]",
      "text/plain": [
       "<Figure size 432x288 with 1 Axes>"
      ]
     },
     "metadata": {
      "needs_background": "light"
     },
     "output_type": "display_data"
    }
   ],
   "source": [
    "sns.histplot(data_copy1,kde=True)"
   ]
  },
  {
   "cell_type": "code",
   "execution_count": 31,
   "metadata": {},
   "outputs": [],
   "source": [
    "import numpy as np\n",
    "s=np.random.normal(0.5,0.2,1000)"
   ]
  },
  {
   "cell_type": "code",
   "execution_count": 32,
   "metadata": {},
   "outputs": [
    {
     "data": {
      "text/plain": [
       "array([ 0.33724021,  0.68384842,  0.54196338,  0.57568487,  0.20985048,\n",
       "        0.68475968,  0.41411392,  0.60336271,  0.95266277,  0.15932024,\n",
       "        0.55437422,  0.5429419 ,  0.56018135,  0.69848019,  0.35394546,\n",
       "        0.36664376,  0.36415729,  0.56084032,  0.42018142,  0.47815683,\n",
       "        0.50890889,  0.15575598,  0.45918471,  0.62201872,  0.20265576,\n",
       "        0.54578702,  0.34178301,  0.42450765,  0.46021424,  0.38224286,\n",
       "        0.69604638,  0.60791832,  0.18091972,  0.85848912,  0.6907244 ,\n",
       "        0.38982644,  0.52385611,  0.67967547,  0.38628063,  0.61985068,\n",
       "        0.59335787,  0.60774097,  0.7310205 ,  0.27624732,  0.59896076,\n",
       "        0.52040298,  0.64174449,  0.47325239,  0.57870469,  0.41649257,\n",
       "        0.74008056,  0.41753468,  0.27497661,  0.69180685,  0.47932922,\n",
       "        0.46808309,  0.56823503,  0.56996183,  0.50817187,  0.46045959,\n",
       "        0.447143  ,  0.49968494,  0.816549  ,  0.31155096,  0.39106242,\n",
       "        0.35190407,  0.39172233,  0.42739864,  0.79624502,  0.29117724,\n",
       "        0.47487789,  0.81146122,  0.35939733,  0.98947295,  0.82396406,\n",
       "        0.27710768,  0.8423747 ,  0.59527405,  0.73591744,  0.11933736,\n",
       "        0.33481911,  0.46363776,  0.3381506 ,  0.63444976,  0.75562741,\n",
       "        0.56023309,  0.5856029 ,  0.37223353,  0.80923475,  0.68580778,\n",
       "        0.85237161,  0.69413041,  0.54191119,  0.49317018,  0.26365243,\n",
       "        0.73268325,  0.69780622,  0.36859597,  0.63608254,  0.66686103,\n",
       "        0.67601035,  0.67784544,  0.30980865,  0.46481845,  0.22705714,\n",
       "        0.29139737,  0.13155085,  0.33759305,  0.39329336,  0.358866  ,\n",
       "        0.41676707,  0.64221386,  0.49475767,  0.69345103,  0.68568189,\n",
       "        0.95287381,  0.7364862 ,  0.67024682,  0.09787032,  0.16553662,\n",
       "        0.59639624,  0.65205515,  0.09639252,  0.39867548,  0.68044826,\n",
       "        0.49158859,  0.31820979,  0.82681616,  0.82834392,  0.27409356,\n",
       "        0.33593998,  0.72652675,  0.33136315,  0.72803753,  0.34359945,\n",
       "        0.44870246,  0.75611952,  0.76366631,  0.42846384,  0.52141815,\n",
       "        0.6480734 ,  0.73357152,  0.42713606,  0.53240811,  0.68199736,\n",
       "        0.27565228,  0.6101338 ,  0.52534379,  0.36986191,  0.56645146,\n",
       "        0.55174392,  0.25984029,  0.40670575,  0.52792189,  0.60365714,\n",
       "        0.24098189,  0.61350779,  0.72751118,  0.33230514,  0.61714603,\n",
       "        0.51148047,  0.13576916,  0.45321502,  0.47637042,  0.80497389,\n",
       "        0.39098265,  0.06828714,  0.19275067,  0.26212246,  0.2063745 ,\n",
       "        0.94712155,  0.43066592,  0.74293249,  0.67301544,  0.64333776,\n",
       "        0.70957739,  0.44268156,  0.41152164,  0.57876924,  0.49327474,\n",
       "        0.80671776,  0.48060721,  0.16056769,  0.63462564,  0.49974778,\n",
       "        0.87920865,  0.27351462,  0.27240787,  0.24401269,  0.3795652 ,\n",
       "        0.39141105,  0.6083149 ,  0.53370381,  0.73078079,  0.82668457,\n",
       "        0.59736694,  0.35368491,  0.38738606,  0.37004904,  0.71579912,\n",
       "        0.41535439,  0.67736815,  0.50746635,  0.25017753,  0.21286547,\n",
       "        1.00758108,  0.32973437,  0.74696727,  0.05809783,  0.58007821,\n",
       "        0.27332285,  0.52220831,  0.23573726,  0.38827687,  0.42236342,\n",
       "        0.44192593,  0.69262261,  0.52571799,  0.60730449,  0.7839982 ,\n",
       "        0.94367175,  0.51726312,  0.44907905,  0.35343528,  0.79305638,\n",
       "        0.45239608,  0.60285707,  0.57993322,  0.7060996 ,  0.49523827,\n",
       "        0.77527542,  0.49254449,  0.72704829,  0.56109547,  0.29600164,\n",
       "        0.43535209, -0.11350442,  0.38869591,  0.69664746,  0.2758548 ,\n",
       "        0.7808429 ,  0.81140309,  0.46980086,  0.31033569,  0.52775943,\n",
       "        0.73102978,  0.42651152,  0.56587683,  0.56004603,  0.71720899,\n",
       "        0.60170516,  0.51520658,  0.24883486,  0.61931073,  0.51047124,\n",
       "        0.52680472,  0.48148533,  0.46716802,  0.65051213,  0.62916957,\n",
       "        0.50935812,  0.41316904,  0.19796348,  0.80820506,  0.28087812,\n",
       "        0.58126463,  0.37901714,  0.96731792,  0.46176355,  0.37425868,\n",
       "        0.6438383 ,  0.75162803,  0.30300601,  0.75819761,  0.43422931,\n",
       "        0.53168326,  0.33476031,  0.74647397,  0.56074204,  0.86707037,\n",
       "        0.58090282,  0.6835439 ,  0.66585603,  0.37986243,  0.67608677,\n",
       "        0.50289087,  0.48588714,  0.72987128,  0.60330435,  0.56917385,\n",
       "        0.4440122 ,  0.84144301,  0.79812359,  0.75406518,  0.80364607,\n",
       "        0.2595882 ,  0.61339102,  0.28442619,  0.69291258,  0.23808852,\n",
       "        0.74001601,  0.4663084 ,  0.42346982,  0.68438887,  0.10687296,\n",
       "        0.30666097,  0.36607381,  0.52191836,  0.41980592,  0.59144619,\n",
       "        0.21854983,  0.57045667,  0.27285104,  0.80329275,  0.59203545,\n",
       "        0.36859145,  0.89110361,  0.66058813,  0.59462136,  0.34977262,\n",
       "        0.69358214,  0.78795876,  0.11932457, -0.04284038,  0.51143305,\n",
       "        0.74810134,  0.52266439,  0.60569789,  0.83596524,  0.36261148,\n",
       "        0.48606207,  0.55770373,  0.38065919,  0.28625578,  0.61271032,\n",
       "        0.47862458,  0.66812013,  0.46356169,  0.60664873,  0.31645554,\n",
       "        0.40657271,  0.39451656,  0.5382145 ,  0.36380213,  0.62777359,\n",
       "        0.5450595 ,  0.29765527,  0.42109889,  0.4862311 ,  0.48250209,\n",
       "        0.63042771,  0.65385005,  0.48579466,  0.52485517,  0.5734281 ,\n",
       "        0.0955113 ,  0.59258709,  0.47326501,  0.60609032,  0.61695615,\n",
       "        0.3702562 ,  0.45772417,  0.57312348,  0.26364437,  0.52515671,\n",
       "        0.66443665,  0.32544974,  0.5099404 ,  0.52699076,  0.59505624,\n",
       "        0.26982368,  0.52001541,  0.4852899 ,  0.64459553,  0.26661462,\n",
       "        0.34957054,  0.30648138,  0.50210334,  0.73126201,  0.64716052,\n",
       "        0.43717945,  0.4640033 ,  0.68260482,  0.41462637,  0.74322212,\n",
       "        0.67257634,  0.480675  ,  0.7032051 ,  0.24441816,  0.35527992,\n",
       "        0.1847046 ,  0.53147188,  0.44436777,  0.42368927,  0.3925916 ,\n",
       "        0.5624207 ,  0.69200247,  0.52298105,  0.46587182,  0.32086919,\n",
       "        0.52866499,  0.75323256,  0.48126951,  0.58920989,  0.61574121,\n",
       "        0.51405712,  0.61571321,  0.59314776,  0.63493834,  0.70983451,\n",
       "        0.37662092,  0.61199123,  0.35262031,  1.03281318,  0.35637257,\n",
       "        0.30005811,  0.27731239,  0.37375668,  0.70734908,  0.5107431 ,\n",
       "        0.42384207,  0.26580917,  0.42583613,  0.61050081,  0.49011276,\n",
       "        0.40260786,  0.28501456,  0.48934962,  0.43858959,  0.63165093,\n",
       "        0.47957705,  0.48697932,  0.23921239,  0.50226772,  0.57823273,\n",
       "        0.71402172,  0.47932048,  0.47558996,  0.2316117 ,  0.96195212,\n",
       "        0.79566421,  0.7216702 ,  0.61607443,  0.43195083,  0.33963267,\n",
       "        0.59285504,  0.53397429,  0.47221037,  0.12810277,  0.36667578,\n",
       "        0.45535356,  0.83372541,  0.2995943 ,  0.38225581,  0.7735186 ,\n",
       "        0.21843545,  0.55450398,  0.1808066 ,  0.49743543,  0.58531988,\n",
       "        0.36040954,  0.13274455,  0.35905418,  0.30138082,  0.86206163,\n",
       "        0.36384247,  0.56121503,  0.50496779,  0.5688862 ,  0.44167336,\n",
       "        0.67370593,  0.8199604 ,  0.52128481,  0.59571689,  0.45529404,\n",
       "        0.00886202,  0.55487658,  0.70104419,  0.70230176,  0.51952716,\n",
       "        0.43531791,  0.44638849,  0.59027182,  0.75312316,  0.36918085,\n",
       "        0.4268346 ,  0.66198729,  0.56798701,  0.5201386 ,  0.45785797,\n",
       "        0.49422038,  0.61616515,  0.37271205,  0.3370021 ,  0.21860734,\n",
       "        0.75984553,  0.46856503,  0.51948852,  0.51979283,  0.4333225 ,\n",
       "        0.85998926,  0.44613277,  0.78729672,  0.20586806,  0.81786514,\n",
       "        0.73952639,  0.63815574,  0.83739404,  0.39096446,  0.54878208,\n",
       "        0.1457996 ,  0.35033207,  0.35938892,  0.32534474,  0.39865996,\n",
       "        0.5776006 ,  0.43895025,  0.33736574,  0.44875199,  0.40283672,\n",
       "        0.39337463,  0.24415816,  0.55198542,  0.33379138,  0.1709196 ,\n",
       "        0.65007712,  0.65581007,  0.47106253,  0.38104349,  0.62426245,\n",
       "        0.64216026,  0.320926  ,  0.58401819,  0.52913591,  0.59814816,\n",
       "        0.34924492,  0.66098579,  0.70045012,  0.4990246 ,  0.10303638,\n",
       "        0.04641389,  0.73147587,  0.98091855,  0.9162738 ,  0.10277461,\n",
       "        0.5377882 , -0.0508116 ,  0.85062113,  0.71069799,  0.58462852,\n",
       "        0.21593166,  0.36790515,  0.84299339,  0.49147691,  0.34073242,\n",
       "        0.63670473,  0.72614789,  0.25486764,  0.75234086,  0.31984937,\n",
       "        0.49722075,  0.37992719,  0.53260116,  0.88221904,  0.39928983,\n",
       "        0.53046863,  0.58257753,  0.40022401,  0.89983215,  0.6721561 ,\n",
       "        0.44513226,  0.55573791,  0.62605825,  0.60058959,  0.47123658,\n",
       "        0.66699766,  0.65268851,  0.37593598,  0.33212402,  0.451909  ,\n",
       "        0.74270724,  0.49808893,  0.66512913,  0.49598704,  0.65817506,\n",
       "        0.67207877,  0.29443735,  0.68998299,  0.54555024,  0.58798615,\n",
       "        0.67923683,  0.71821738,  0.66768173,  0.46386022,  0.65051948,\n",
       "        0.11576126,  0.54621594,  0.64706906,  0.34516929,  0.0593618 ,\n",
       "        0.53268477,  0.22546153,  0.45702395,  0.4340742 ,  0.50089915,\n",
       "        0.2739966 ,  0.65916843,  0.30417978,  0.29017831,  0.48484085,\n",
       "        0.33987252,  0.33463652,  0.26284867,  0.26234094,  0.45321638,\n",
       "        0.21637688,  0.47284256,  0.58979233,  0.68775675,  0.27733659,\n",
       "        0.31853116,  0.22711765,  0.84574097,  0.65065653,  0.44202851,\n",
       "        0.33194935,  0.29366894,  0.55845237,  0.24408687,  0.43901481,\n",
       "        0.63265329,  0.61379546,  0.47456388,  0.42106055,  0.59596875,\n",
       "        0.54003754,  0.54971748,  0.27821188,  0.63562177,  0.70990973,\n",
       "        0.49228074,  0.51609383,  0.7186685 ,  0.40292131,  0.46163069,\n",
       "        0.68616154,  0.39893513,  0.5378763 ,  0.87006608,  0.90839127,\n",
       "        0.16376984,  0.7189591 ,  0.39402632,  0.62598867,  0.28623858,\n",
       "        0.57042548,  0.26588374,  0.18789036,  0.75015494,  0.51807125,\n",
       "        0.4403969 ,  0.60861155,  0.60867922,  0.27037762,  0.52032566,\n",
       "        0.28789069,  0.51006173,  0.65617711,  0.61441317,  0.39803917,\n",
       "        0.44237182,  0.60240374,  0.31098604,  0.44332424,  0.32327899,\n",
       "        0.50918287,  0.58713636,  0.50655762,  0.47684701,  0.50603247,\n",
       "        0.18013416,  0.54742623,  0.30985689,  0.73079285,  0.26591575,\n",
       "        0.30487997,  0.72158446,  0.27274487,  0.38245696,  0.42351722,\n",
       "        0.45281679,  0.78236653,  0.45413771,  0.3013596 ,  0.28040169,\n",
       "        0.41056553,  0.33861253,  0.63518492,  0.86622258,  0.677454  ,\n",
       "        0.47750992,  0.5144942 ,  0.50765163,  0.69124364,  0.64752078,\n",
       "        0.69708231,  0.65723255,  0.30775905,  0.43541175,  0.43237285,\n",
       "        0.65935107,  0.54125427,  0.41920732,  0.33034594,  0.27014746,\n",
       "        0.81868202,  0.51339337,  0.66871411,  0.51653252,  0.04847162,\n",
       "        0.29821148,  0.10168452,  0.63504388,  0.64845342,  0.58232701,\n",
       "        0.78547521,  0.40134178,  0.86589635,  0.39085048,  0.5535908 ,\n",
       "        0.6089393 ,  0.82541663,  0.73631699,  0.84502866,  0.27578309,\n",
       "        0.38828738,  0.50315945,  0.5579403 ,  0.27593509,  0.42963616,\n",
       "        0.5977998 ,  0.88711284,  0.43818944,  0.46534837,  0.45597564,\n",
       "        0.67494444,  0.07799636,  0.76352077,  0.83538841,  0.30849547,\n",
       "        0.19354736,  0.39265613,  0.60368363,  0.5361372 ,  0.44364582,\n",
       "        0.28195233,  1.13935846,  0.61619275,  0.22940528,  0.23020281,\n",
       "        0.72864135,  0.67798546,  0.62067427,  0.2100575 ,  0.60330508,\n",
       "        0.53959773,  0.85943646,  0.64670304,  0.4322967 ,  0.44757275,\n",
       "        0.82848764,  0.74160414,  0.46006813,  0.42755494,  0.78334386,\n",
       "        0.49542299,  0.76214982,  0.67667787,  0.78035859,  0.44619556,\n",
       "        0.36713627,  0.64810614,  0.44424318,  0.56836149,  0.68381781,\n",
       "        0.39806505,  0.77460037,  0.25493587,  0.28088334,  0.41506437,\n",
       "        0.67858659,  0.40242103,  0.80205647,  0.42442238,  0.63849563,\n",
       "        0.70437752,  0.38838971,  0.29667124,  0.16675307,  0.59741727,\n",
       "        0.44730118,  0.69661766,  0.18989365,  0.38757646,  0.23382963,\n",
       "        0.92239357,  0.67294768,  0.71497197,  0.47399862,  0.57301375,\n",
       "        0.45827024,  0.43117357,  0.75780645,  0.2382855 ,  0.33068461,\n",
       "        0.60268554,  0.82620439,  0.51771449,  0.21882487,  0.57872822,\n",
       "        0.66437106,  0.71701861,  0.55714695,  0.62849244,  0.56908492,\n",
       "        0.39501297,  0.37702987,  0.56256975,  0.45553302,  0.69114633,\n",
       "        0.16178032,  0.1152455 ,  0.66147106,  0.58135946,  0.79912709,\n",
       "        0.65710074,  0.52054645,  0.72802139,  0.35008726,  0.53017436,\n",
       "        0.5739902 ,  0.56869008,  0.66021232,  0.51408646,  0.38126607,\n",
       "        0.22148584,  0.40739978,  0.37470153,  0.65091489,  0.80863448,\n",
       "        0.2128422 ,  0.46897659,  0.33579141,  0.44352358,  0.58208105,\n",
       "        0.63897674,  0.79094389,  0.39512297,  0.45728798,  0.32838862,\n",
       "        0.94715654,  0.9158054 ,  0.69820062,  0.52501972,  0.45332293,\n",
       "        0.56292393,  0.63902684,  1.02823499,  0.56891628,  0.34836848,\n",
       "        0.41608862,  0.7397527 ,  0.6162415 ,  0.58551104,  0.32592519,\n",
       "        0.62175873,  0.4756721 ,  0.19022563,  0.43385443,  0.547594  ,\n",
       "        0.39349597,  0.20456789,  0.46948521,  0.41508245,  0.49883584,\n",
       "        0.58879336,  0.37816222,  0.80708353,  0.41426225,  0.61899218,\n",
       "        0.85451348,  0.45574893,  0.45263251,  0.80273723,  0.50857028,\n",
       "        0.58601314,  0.30236658,  0.46062996,  0.59084485,  0.37316489,\n",
       "        0.49278472,  0.47789653,  0.60252543,  0.27529846,  0.4375343 ,\n",
       "        0.6879862 ,  0.6673846 ,  0.63395496,  0.62841128,  0.45561183,\n",
       "        0.69854664,  0.69372327,  0.61630177,  0.41494798,  0.83741205,\n",
       "        0.57730199,  0.23208328,  0.62816862,  0.48037296,  0.32504602,\n",
       "        0.22476651,  0.31496177,  0.30207258,  0.19357488,  0.59980538,\n",
       "        0.76153233,  0.34101766,  0.61352973,  0.51111941,  0.34805676,\n",
       "        0.54381193,  0.58291988,  0.41312303,  0.48371749,  1.03862251,\n",
       "        0.20699562,  0.52687951,  0.73013648,  0.50160206,  0.52815081,\n",
       "        0.58956054,  0.42825644,  0.36499442,  0.48996496,  0.40733741,\n",
       "        0.19020897,  0.44435582,  0.6032917 ,  0.35935021,  0.57269595,\n",
       "        0.43275625,  0.47784121,  0.5695013 ,  0.1912566 ,  0.27301419,\n",
       "        0.52231116,  0.52166731,  0.35036021,  0.82930789,  0.34710568,\n",
       "        0.6414814 ,  0.5053889 ,  0.55372236,  0.18222468,  0.49846819,\n",
       "        0.3661209 ,  0.80959459,  0.7034088 ,  0.70520775,  0.71663945,\n",
       "        0.55996618,  0.43721803,  0.37208241,  0.63712303,  0.65754525,\n",
       "        0.66683041,  0.30198423,  0.41458409,  0.64933573,  0.65327092,\n",
       "        0.51521895,  0.43532526,  0.5115182 , -0.21403619,  0.49397608,\n",
       "        0.07046919,  0.28059703,  0.82627796,  0.43860434,  0.51393504,\n",
       "        0.55554742,  0.27125281,  0.65333478,  0.52356866,  0.80925123,\n",
       "        0.31933042,  0.87288862,  0.5780283 ,  0.39828816,  0.19639571])"
      ]
     },
     "execution_count": 32,
     "metadata": {},
     "output_type": "execute_result"
    }
   ],
   "source": [
    "s"
   ]
  },
  {
   "cell_type": "code",
   "execution_count": 30,
   "metadata": {},
   "outputs": [
    {
     "data": {
      "text/plain": [
       "<AxesSubplot:ylabel='Count'>"
      ]
     },
     "execution_count": 30,
     "metadata": {},
     "output_type": "execute_result"
    },
    {
     "data": {
      "image/png": "[encoded data removed]",
      "text/plain": [
       "<Figure size 432x288 with 1 Axes>"
      ]
     },
     "metadata": {
      "needs_background": "light"
     },
     "output_type": "display_data"
    }
   ],
   "source": [
    "sns.histplot(s,kde=True)"
   ]
  },
  {
   "cell_type": "code",
   "execution_count": 34,
   "metadata": {},
   "outputs": [],
   "source": [
    "mu,sigma=3.0,1.0\n",
    "p=np.random.lognormal(mu,sigma,1000)"
   ]
  },
  {
   "cell_type": "code",
   "execution_count": 35,
   "metadata": {},
   "outputs": [
    {
     "data": {
      "text/plain": [
       "<AxesSubplot:ylabel='Count'>"
      ]
     },
     "execution_count": 35,
     "metadata": {},
     "output_type": "execute_result"
    },
    {
     "data": {
      "image/png": "[encoded data removed]",
      "text/plain": [
       "<Figure size 432x288 with 1 Axes>"
      ]
     },
     "metadata": {
      "needs_background": "light"
     },
     "output_type": "display_data"
    }
   ],
   "source": [
    "sns.histplot(p,kde=True)"
   ]
  },
  {
   "cell_type": "code",
   "execution_count": 36,
   "metadata": {},
   "outputs": [
    {
     "data": {
      "text/plain": [
       "array([ 14.45516248,  27.50004761,  20.85576529,   4.76423033,\n",
       "        20.54547183,  45.03050423,   6.6957847 ,  34.00750939,\n",
       "        37.40331032,  15.0632508 ,  28.11451518,  59.99767814,\n",
       "        10.4182592 ,  28.30953733,  64.83525659,  34.22971965,\n",
       "        11.88372278,   8.46448596,  63.51814928,  32.487518  ,\n",
       "         5.54635841,  18.48458475,   4.47415032,  15.93865905,\n",
       "        13.98157126,   9.95245678,   9.55387161,  41.98441675,\n",
       "        37.17286729,  17.85022879,  10.50362958,  26.78367337,\n",
       "        27.13876336,   4.05620921,  27.4014372 ,  30.94737249,\n",
       "         7.18212945,  17.51834747,   8.54715439,   8.58931669,\n",
       "         4.87829252,  23.34658108,  10.1103618 , 168.57018001,\n",
       "         3.67682292,  68.17105182,   6.21412961,  19.47782569,\n",
       "        11.86009544,   9.1341985 ,  91.7908847 ,  59.59115131,\n",
       "        10.03397409,   3.79106313,   3.32778904,   4.51274195,\n",
       "        12.46501991,   3.53441635,  28.9877981 ,   1.66744189,\n",
       "        17.40200129,  25.87157728,  85.01577557,  35.55153342,\n",
       "        21.37319529,   2.29067099,  22.86923559,   6.39380768,\n",
       "        95.30531102,  35.49153389,   4.01634199,   3.03804542,\n",
       "        16.08415287,  15.89758617,   6.57106228,   6.0056513 ,\n",
       "         8.22417803,  17.17642841,  19.11693655,  11.94910081,\n",
       "        14.48401128,  15.09163207,  12.17446875, 134.27076412,\n",
       "        36.23897134,  18.96242969,  24.16608174,  12.53960185,\n",
       "        39.24950813,  16.85750495,  27.82560463,  79.9099941 ,\n",
       "        34.59817961,  12.80618683,   5.52053081,  25.21548574,\n",
       "       112.26105165,  38.004669  ,  46.67523007,  18.41642806,\n",
       "       123.64192425,  15.48482044,   7.40695485,  21.61171431,\n",
       "        22.07239111,  77.91203042,  81.93606024,  11.10606793,\n",
       "        70.88569713,   9.10923047,  10.06074751,   9.23246702,\n",
       "        19.68012792,   7.10973782,  32.76915927, 397.220926  ,\n",
       "        12.61434123,   6.72649157, 106.31515049,  50.11186438,\n",
       "         5.52128061,   6.93927822, 122.28434872,   2.63338748,\n",
       "        43.88694916,  72.72891733,  32.00835234, 102.4582229 ,\n",
       "         3.06766649,  10.72909735, 139.4100804 ,  30.21012352,\n",
       "        17.8195584 ,   6.54496132,  33.71365241,   4.45903168,\n",
       "        34.60980108,   9.65199094,  13.791183  ,  29.11609323,\n",
       "        34.09732379,   4.44609106,  13.56712426,  28.49368352,\n",
       "        23.23594774,  68.67477778,  25.08136128,  28.31905798,\n",
       "         5.35238477,   5.0677265 ,  37.25335991,  43.60658178,\n",
       "         5.5387933 ,  23.24407075,  12.98042336,   9.12751022,\n",
       "        75.62505753,   6.75155161,  48.29567041,  38.69819112,\n",
       "        41.40308934,  15.61569376,  26.54903372,   3.72237281,\n",
       "        57.95009423,  14.67490791,  49.94138957,  26.67385896,\n",
       "         6.87063643,  41.9548221 , 139.94372963, 241.86256695,\n",
       "        33.18749502,   5.62960121,  37.61987726,  39.89404616,\n",
       "        51.1365981 , 167.57801047,  26.04349176,  13.65746106,\n",
       "         7.15139666,  39.0701643 ,   4.72134743,   2.88571734,\n",
       "        10.70880602,  20.4269858 ,  19.28390586,   7.63852191,\n",
       "        81.67291154,  10.61253236, 179.71739437,  28.54332522,\n",
       "        42.58060584,  15.76773222,  25.2085124 ,  22.8272737 ,\n",
       "         9.92116132,  40.01908026,  13.7062844 ,  55.69670667,\n",
       "        21.40725382,   4.88655065,   6.7358733 ,  34.03800157,\n",
       "        27.30691055,  14.47328375,  17.94989791,  46.27642273,\n",
       "         7.27039781,  18.2114759 ,  50.27036057,  43.8116418 ,\n",
       "        63.10920372,  15.91303885,  21.6592143 ,  27.69999518,\n",
       "        51.0232517 ,   2.86293664,   7.32336423,  13.22356019,\n",
       "        38.95764104,   4.84716095,  10.89484358,  43.40729355,\n",
       "        59.76631202,   9.69504279,  57.9987045 ,  24.77770636,\n",
       "        30.98630494,  46.47874604,  10.42465628,  24.71570503,\n",
       "        38.66265907,  22.09513452,  25.07272025,   6.29224073,\n",
       "        25.7555582 ,   6.1274884 ,  11.10140265,  42.04550861,\n",
       "        46.3963042 ,  37.8277439 ,  42.08853841,  25.20324517,\n",
       "        29.28089561,  22.38568183, 106.6033248 ,  22.3021447 ,\n",
       "         3.2801437 ,  53.37061546,  33.44798435,   9.51437549,\n",
       "        14.6901916 ,  26.50011093,  50.1567787 ,  11.88407761,\n",
       "         8.77221035,  28.36113186,  13.08374388,   8.77819135,\n",
       "        27.56292993,  16.64154731,  93.66712271,  27.91297123,\n",
       "         4.46611848,   6.51849328,  30.10983364,   4.90186223,\n",
       "        84.1937376 ,  10.25016217, 181.20604964,  42.38929136,\n",
       "        19.03082532,  22.94052015,  23.41802004,  76.35383312,\n",
       "        12.58331691,  12.80688945,  10.7730665 ,  34.041256  ,\n",
       "         3.95544681,  34.91224229,  18.54872228,  77.00208114,\n",
       "         6.91310649,  48.69192288,  22.20964702,   7.48381709,\n",
       "        33.96458479,   3.39900735,   3.59162913,   1.64134108,\n",
       "        13.76288501,  40.83677191,   4.68699749, 265.07912271,\n",
       "        27.18775456, 111.3633419 ,  98.78013697,  42.84158502,\n",
       "         9.96793865,   2.58088338,  69.52543494,   6.86177001,\n",
       "        54.90908874,  33.19146768,  27.93570554,   4.0451118 ,\n",
       "         9.00028983,  30.3310017 ,  25.21295755,  17.30333491,\n",
       "         5.84261771,  30.4021103 ,   7.87392138,  22.06191967,\n",
       "        16.90778059,  54.28593022,  79.7386723 ,  34.05324127,\n",
       "        30.0392169 ,  57.05428772,  28.28157962,  31.05576298,\n",
       "         6.0956784 ,  76.13107138,  61.18670892,   8.77653457,\n",
       "        29.53540631,  28.13839995,  19.10850182,  15.32092504,\n",
       "         3.01831287,  10.65869093,   5.24926788,  81.23796545,\n",
       "         7.22780055,  10.07005527,   4.64857011,   9.66309165,\n",
       "        15.77189406,   6.7742826 ,  53.7981503 ,   1.47298498,\n",
       "         3.87026995,  11.92869955,  37.82740108, 141.07957676,\n",
       "        14.04599606,  15.98200585,  11.40572502,  14.20625042,\n",
       "        12.82718709,  17.74908286,  43.51466991,  45.37703433,\n",
       "         9.56589161,   4.47362124,  77.97319992,  23.99067547,\n",
       "        60.2048483 ,  30.15229705,  15.98845437,  34.0235253 ,\n",
       "        33.5229686 ,   8.34838183,  28.82479136,  22.94117775,\n",
       "        55.42459608,  19.87225542,  12.80851473,  89.29869352,\n",
       "         9.24401736,  58.81321482, 442.29172663,   8.87396526,\n",
       "         7.98667817,  18.59555153,  16.65939032,  24.453836  ,\n",
       "        43.3532926 ,  41.07405518,  14.76620363,  12.90609512,\n",
       "        24.87171893, 183.73375928,  65.34354233,  83.36977067,\n",
       "        19.28225231,   7.02043094,  17.8906545 , 145.41754368,\n",
       "        29.42370067,  25.64229226,  45.79327545,  25.80584509,\n",
       "        42.38502455,   3.70578326,  12.32744111,   3.31198639,\n",
       "         2.34021889, 184.46591239,   9.60204682,  17.35332136,\n",
       "        20.30862107,  29.83267152,  11.1874428 ,   7.04362107,\n",
       "        10.77824141,  15.90044646,  46.55930569,  12.18342031,\n",
       "        45.41399897,  14.51130209, 121.41211631,  19.55173011,\n",
       "        31.02316591,  37.43767407,   7.89708124,   9.97782905,\n",
       "        24.52109497,  42.47794141,  27.49513029,   5.80914064,\n",
       "        19.7580129 ,   6.85798711,  29.02226591,  11.55500054,\n",
       "        12.71092696,  38.96644499,  33.44897991,   2.2229517 ,\n",
       "         7.30196082,  37.42727549, 112.28360452,  18.92906328,\n",
       "        31.77970367,  35.75098854,  50.22073827,   7.91829217,\n",
       "        67.505176  ,   9.94049238,  16.98569659,  39.72746564,\n",
       "        51.40681307,  16.23777759,  13.12224501,  45.10254401,\n",
       "        20.35858573,  25.49258297,  76.98109763,   7.25813697,\n",
       "        13.96858415,   8.8817312 ,  13.85861961,  19.95353229,\n",
       "         3.55029947,   6.94013855,  11.13191653,  16.37838978,\n",
       "        10.02129309,  72.75512112,   6.44995297,   7.50964874,\n",
       "        22.46266362,  16.74067418,  10.64217459,  77.73716539,\n",
       "         8.89668465,  25.33016893,  20.93210165,  18.04302717,\n",
       "        37.73596857,  31.98058855,  25.61853821,  14.64248226,\n",
       "        11.5170721 ,  15.75704573,  47.5216692 ,  58.7720824 ,\n",
       "        48.2102043 ,  46.83669468,  10.41147346,  21.23365204,\n",
       "        12.69781998,  13.4655203 ,   2.3974572 ,  30.749611  ,\n",
       "        20.52627709,  49.11113789,  23.97751813,   9.68279262,\n",
       "       175.4241522 ,  26.4295306 ,  10.01585448,   5.57541916,\n",
       "         3.44476303, 126.56512691,   6.01129376,  18.49880156,\n",
       "        22.04608919,   7.8819898 ,   6.08669182,  33.19647199,\n",
       "        12.46769255,  13.75706725,  12.64313468,  32.06399457,\n",
       "        66.42222801,  18.12901371,  35.26929058,  37.4408272 ,\n",
       "         6.374869  ,   2.34414945,  87.0093331 ,  33.5440716 ,\n",
       "        11.09807546,  11.8023705 ,  13.22710562,  12.86568388,\n",
       "        14.51611846,   8.24142684,   7.35546753,  15.76691338,\n",
       "         7.51449768,  10.58408012,  10.54539109,  77.53624227,\n",
       "         9.82853408,  19.58733905,  67.54980904, 178.92868672,\n",
       "        12.265495  ,  13.4419525 ,  57.60785362,  12.1575717 ,\n",
       "        18.76338164,  22.94605756,  22.00056214,  14.14632497,\n",
       "         9.08103325,  52.93114515,  52.3237069 ,  16.1116101 ,\n",
       "        11.46045045,  67.30076935,  90.47815057,   9.69949371,\n",
       "        90.14556765,  28.97877624,  84.22304243,  27.16861756,\n",
       "        28.78214266,   3.0801445 ,  15.22132779,  12.06379641,\n",
       "        11.44515351,  15.35318268,   8.80177868,  25.63509069,\n",
       "        68.01166971,  24.41706485,   4.96779131,  59.19269587,\n",
       "        93.78954475,  16.97510937,  44.35786469,   9.42289647,\n",
       "         9.22217834,  78.69793343,  70.85372128,  73.09182062,\n",
       "        23.8965119 ,  12.74831327,  14.33727985,  45.92857714,\n",
       "        84.9845507 ,  20.77860964,   5.53944602,  19.28841039,\n",
       "        15.03001976,  14.33939957,  52.078382  ,  16.97411231,\n",
       "        15.38288371,  21.35480223,  26.55368545,  57.49433583,\n",
       "        21.54339037,   2.83509856,  21.55459588,   9.59637   ,\n",
       "        27.07229887,  23.19429615,   5.44575773, 187.61648087,\n",
       "         4.94903544,  18.63098337,  42.70807134,  11.71100401,\n",
       "        32.31867709,  22.59116152,  15.19921464,  31.59272304,\n",
       "        29.44093972,  16.84672556,  33.44598909,  17.83736537,\n",
       "        14.31605777,   2.13044055,  23.68589425,  41.91694087,\n",
       "        21.62603418,  25.88880606, 101.75302923,  40.60113912,\n",
       "        19.3382673 ,  59.12401153,   6.18016375,  40.20896282,\n",
       "       132.04047705, 271.38699362,  25.49772882,  50.62303084,\n",
       "         4.09143048,  33.51357402,  39.142774  ,  18.10980389,\n",
       "        28.7621867 ,   9.38723446, 255.80264441, 109.07915865,\n",
       "        12.13363992,  15.27088632, 116.40958923,  28.52222535,\n",
       "         9.91059327,  81.72659045,  16.97588822,  52.31221528,\n",
       "        38.44265254,  14.61815819,  12.39578006,  47.47792105,\n",
       "        11.73328566,  27.01354025,  91.7814612 , 108.47453347,\n",
       "       171.02831853,   4.0960944 ,  15.2598134 ,   3.8268182 ,\n",
       "        11.62866175,  48.80239611,  12.93637967,  11.80964819,\n",
       "        16.43322405,  10.56217095,  26.12068062,  13.05252014,\n",
       "        12.62015999,  32.02154638,   9.16982362,   2.8749668 ,\n",
       "        44.47774837,  17.0589181 ,  57.09089107,   2.58485916,\n",
       "        47.60539368,  34.15984407,  56.42970618,  58.0312901 ,\n",
       "        35.32723847,  54.26734721,  46.95176967,  16.49639166,\n",
       "         8.57863103,   9.45152998,  31.82677784,  31.69093823,\n",
       "        10.46195993,  41.7778841 ,  13.42818627,  49.15534939,\n",
       "         4.82982528,   8.85056724,  15.53829413,  35.21802   ,\n",
       "        48.13870495, 165.15350541,  12.46236514,  76.09926564,\n",
       "         2.36988413,  17.3453645 ,   9.06068141,  29.42111902,\n",
       "         6.55939324,   3.7787474 ,   8.73841123,  93.69679731,\n",
       "         0.54631902,  16.58062125,  19.83690471, 103.90354324,\n",
       "        92.50458464,  10.69892386,  47.98231179,   7.57943314,\n",
       "         9.44344459,  32.98735977,  52.82351769,  18.14663723,\n",
       "         9.71797267,  34.43892956,  53.90409441,   8.94421889,\n",
       "         5.7333506 ,  22.05402166,  28.75743239,  17.31566366,\n",
       "        23.05931147,   0.99160547,   7.30722541,  41.91052391,\n",
       "        29.88892594,  32.17390803,  18.65532391,  11.38952319,\n",
       "        16.56552794,  10.30142475,   6.07787457,   8.55910254,\n",
       "        22.53675356,  69.44769228,   8.15010651,  28.84137564,\n",
       "        18.82908138,  17.72330461,   7.21279021,  14.1208527 ,\n",
       "        67.97495448,  39.48824103,  18.02318347,  54.93027278,\n",
       "         9.88844476,  18.91277685,  13.14331018,  45.36072597,\n",
       "         6.9275537 ,  51.94713908,  28.52719336,  17.2708733 ,\n",
       "         8.55089214,  49.36328914,  95.38295499,  15.48838504,\n",
       "        23.64071238,   7.0016554 ,  34.66544072,   2.80251792,\n",
       "        21.8300403 ,   1.09680833,  51.33874182,   8.38580985,\n",
       "        41.97328109,  26.22889732,  29.76468489,  24.8513198 ,\n",
       "       102.97914523,  27.01450868,  78.16107041,  31.39079598,\n",
       "        12.15523384,  72.23926861,   4.60581602,  61.51998212,\n",
       "        39.23221881,  35.5222648 ,  57.95365229,   7.48224486,\n",
       "         7.56427885,  17.1981417 ,   6.16782005,  31.21906417,\n",
       "        13.7046591 ,  23.51710243,   7.68353917,  85.00882068,\n",
       "        61.51677157,  13.32319791,   8.85680915,  16.32649378,\n",
       "        27.25795017,  37.83566539,  83.06868148,  64.37397085,\n",
       "         3.26719804,   3.96194952,   9.92488398,  13.14152762,\n",
       "         4.8643206 ,  17.20978716,  17.73537618,   4.29497567,\n",
       "         3.30346506,   4.45245774,   3.1376549 ,  32.32687987,\n",
       "        15.45566826,  27.63299848,  40.39246625,  92.32652211,\n",
       "         4.58976054,  12.58928331,  10.60727053,   6.75970963,\n",
       "         6.92118509,  47.32117317,  51.93234237,  23.08658651,\n",
       "        16.75702973,  13.04114565,   4.46416089,   6.36622586,\n",
       "         6.24885409,  62.1212466 ,  16.87123643, 182.75832762,\n",
       "         8.21573571,  28.88817592,  49.25049405,   4.2546668 ,\n",
       "         9.07612313,  17.74278425,  22.80046093,   5.47573493,\n",
       "        75.03384043,  16.47516479, 109.74779264,  38.70706287,\n",
       "         1.85000019,   8.89748546,  14.0059152 ,  10.86605469,\n",
       "        13.0711425 ,   1.19969185,   4.3311463 ,  27.70553425,\n",
       "         1.00320737,  50.22154972,  12.58318763,  24.666023  ,\n",
       "        19.31102701,  14.76927618,  38.46609007,  19.2485922 ,\n",
       "        15.73799342,  37.59762053,  60.38085102,   3.41133998,\n",
       "        23.79995378,  19.79792456,  18.71152937,  12.467729  ,\n",
       "        95.30010678,   7.90973521,   1.45360978,  21.0427869 ,\n",
       "        24.85092597,  11.89340532,   9.67038463,  16.53736666,\n",
       "         3.67670521,  30.71320057,  12.11540345,  11.90721916,\n",
       "         4.57312795,   5.30495619, 206.43996686,  17.04812576,\n",
       "         2.08510347, 121.60794684,  22.64726937,  40.96527712,\n",
       "        20.25609818,   8.20071103,  20.35128721,  35.53005365,\n",
       "         5.0745558 ,  13.04452255,  29.44892747,  18.77773479,\n",
       "        78.86063051,  29.79614053,  36.25294132,  14.64428747,\n",
       "        11.60537241,   1.85858076,   8.59614828,  13.32942833,\n",
       "         8.85621608,  21.5223396 ,   5.19064732,  57.89776046,\n",
       "        36.7837048 ,   3.71413567,   9.89280614,  16.6492048 ,\n",
       "        33.07361277,  40.34758942,   4.12561779,  20.1995198 ,\n",
       "        33.83749791,  22.56135612,  11.58199555,   5.57196274,\n",
       "        21.9299932 ,  14.37797157,  30.89003552,  25.48626869,\n",
       "        57.85771317,  10.33473234,  52.81159938, 160.58410045,\n",
       "        41.69987338,   7.85989358, 107.92581522,  47.29961437,\n",
       "        10.74601617,  12.57486398,  41.38212619,  10.27280582,\n",
       "        24.41794741,   5.41446673,  32.62182749,  17.34800374,\n",
       "        22.89763272,   7.30026834,   4.76838156,  70.90293708,\n",
       "        24.59414095,   8.26480921,  16.76194762,  86.31981818,\n",
       "        13.30458456,  18.92569769,   7.55173676,  25.3154222 ,\n",
       "        51.73266539, 121.05620327,   7.25126724,  69.54640577,\n",
       "       159.15009527,  19.95977023,  71.69445066,   1.31102258,\n",
       "         6.96932488,  43.94751958,  15.54287487,  45.9992527 ,\n",
       "        25.53021292,   4.62552005,  54.50717122,  21.19803974,\n",
       "       122.68123017,  25.94761131,   9.79990387,   2.04843226,\n",
       "        37.26183803,  21.12662637,  56.59260954,  43.6319884 ,\n",
       "         8.55088973,  14.3196612 ,  20.06401079,  33.83929735,\n",
       "        12.35916357,  37.73871595,   5.92287217,  51.75099715,\n",
       "       258.91058196,  31.94410228,  19.31699055,  18.88719318,\n",
       "        10.45474635,  10.49249951,  23.35434009,  23.92222164,\n",
       "        11.52472816,  12.60267145,  14.35604222,   4.02202531,\n",
       "         9.58863804,   3.29196798,  22.88453585,  12.40577311,\n",
       "        14.76398826,  13.16976934,  15.0967828 ,   3.39542302])"
      ]
     },
     "execution_count": 36,
     "metadata": {},
     "output_type": "execute_result"
    }
   ],
   "source": [
    "p"
   ]
  },
  {
   "cell_type": "code",
   "execution_count": 37,
   "metadata": {},
   "outputs": [
    {
     "data": {
      "text/plain": [
       "<AxesSubplot:ylabel='Count'>"
      ]
     },
     "execution_count": 37,
     "metadata": {},
     "output_type": "execute_result"
    },
    {
     "data": {
      "image/png": "[encoded data removed]",
      "text/plain": [
       "<Figure size 432x288 with 1 Axes>"
      ]
     },
     "metadata": {
      "needs_background": "light"
     },
     "output_type": "display_data"
    }
   ],
   "source": [
    "sns.histplot(np.log(p),kde=True)"
   ]
  },
  {
   "cell_type": "code",
   "execution_count": null,
   "metadata": {},
   "outputs": [],
   "source": [
    "## Q-Q plot"
   ]
  },
  {
   "cell_type": "code",
   "execution_count": 46,
   "metadata": {},
   "outputs": [],
   "source": [
    "import matplotlib.pyplot as plt\n",
    "import scipy.stats as stat\n",
    "import pylab\n",
    "def plot_data(sample):\n",
    "    plt.figure(figsize=(10,6))\n",
    "    plt.subplot(1,2,1)\n",
    "    sns.histplot(sample,kde=True)\n",
    "    plt.subplot(1,2,2)\n",
    "    stat.probplot(sample,dist=\"norm\",plot=pylab)\n",
    "    plt.show()"
   ]
  },
  {
   "cell_type": "code",
   "execution_count": 47,
   "metadata": {},
   "outputs": [
    {
     "data": {
      "image/png": "[encoded data removed]",
      "text/plain": [
       "<Figure size 720x432 with 2 Axes>"
      ]
     },
     "metadata": {
      "needs_background": "light"
     },
     "output_type": "display_data"
    }
   ],
   "source": [
    "plot_data(data_copy1)"
   ]
  },
  {
   "cell_type": "code",
   "execution_count": 48,
   "metadata": {},
   "outputs": [
    {
     "data": {
      "text/plain": [
       "[12, 23, 24, 32, 32, 32, 43, 45, 45, 56, 67]"
      ]
     },
     "execution_count": 48,
     "metadata": {},
     "output_type": "execute_result"
    }
   ],
   "source": [
    "data"
   ]
  },
  {
   "cell_type": "code",
   "execution_count": 49,
   "metadata": {},
   "outputs": [],
   "source": [
    "data_copy2=data.copy()"
   ]
  },
  {
   "cell_type": "code",
   "execution_count": 50,
   "metadata": {},
   "outputs": [
    {
     "data": {
      "text/plain": [
       "[12, 23, 24, 32, 32, 32, 43, 45, 45, 56, 67]"
      ]
     },
     "execution_count": 50,
     "metadata": {},
     "output_type": "execute_result"
    }
   ],
   "source": [
    "data_copy2"
   ]
  },
  {
   "cell_type": "code",
   "execution_count": 52,
   "metadata": {},
   "outputs": [],
   "source": [
    "data_copy2.append(252)"
   ]
  },
  {
   "cell_type": "code",
   "execution_count": 53,
   "metadata": {},
   "outputs": [
    {
     "data": {
      "text/plain": [
       "[12, 23, 24, 32, 32, 32, 43, 45, 45, 56, 67, 252]"
      ]
     },
     "execution_count": 53,
     "metadata": {},
     "output_type": "execute_result"
    }
   ],
   "source": [
    "data_copy2"
   ]
  },
  {
   "cell_type": "code",
   "execution_count": 55,
   "metadata": {},
   "outputs": [
    {
     "data": {
      "text/plain": [
       "<AxesSubplot:ylabel='Count'>"
      ]
     },
     "execution_count": 55,
     "metadata": {},
     "output_type": "execute_result"
    },
    {
     "data": {
      "image/png": "[encoded data removed]",
      "text/plain": [
       "<Figure size 432x288 with 1 Axes>"
      ]
     },
     "metadata": {
      "needs_background": "light"
     },
     "output_type": "display_data"
    }
   ],
   "source": [
    "sns.histplot(data_copy2,kde=True)"
   ]
  },
  {
   "cell_type": "code",
   "execution_count": 56,
   "metadata": {},
   "outputs": [
    {
     "data": {
      "image/png": "[encoded data removed]",
      "text/plain": [
       "<Figure size 720x432 with 2 Axes>"
      ]
     },
     "metadata": {
      "needs_background": "light"
     },
     "output_type": "display_data"
    }
   ],
   "source": [
    "plot_data(data_copy2)"
   ]
  },
  {
   "cell_type": "code",
   "execution_count": 58,
   "metadata": {},
   "outputs": [
    {
     "data": {
      "image/png": "[encoded data removed]",
      "text/plain": [
       "<Figure size 720x432 with 2 Axes>"
      ]
     },
     "metadata": {
      "needs_background": "light"
     },
     "output_type": "display_data"
    }
   ],
   "source": [
    "plot_data(np.log(data_copy2)) # transform log-normal to normal distribution."
   ]
  },
  {
   "cell_type": "code",
   "execution_count": null,
   "metadata": {},
   "outputs": [],
   "source": [
    "## pandas profiling."
   ]
  },
  {
   "cell_type": "code",
   "execution_count": 63,
   "metadata": {},
   "outputs": [
    {
     "name": "stdout",
     "output_type": "stream",
     "text": [
      "Requirement already satisfied: pandas_profiling in c:\\users\\shyamsundar karmakar\\anaconda3\\lib\\site-packages (3.6.6)\n",
      "Requirement already satisfied: ydata-profiling in c:\\users\\shyamsundar karmakar\\anaconda3\\lib\\site-packages (from pandas_profiling) (4.0.0)\n",
      "Requirement already satisfied: jinja2<3.2,>=2.11.1 in c:\\users\\shyamsundar karmakar\\anaconda3\\lib\\site-packages (from ydata-profiling->pandas_profiling) (2.11.2)\n",
      "Requirement already satisfied: visions[type_image_path]==0.7.5 in c:\\users\\shyamsundar karmakar\\anaconda3\\lib\\site-packages (from ydata-profiling->pandas_profiling) (0.7.5)\n",
      "Requirement already satisfied: pydantic<1.11,>=1.8.1 in c:\\users\\shyamsundar karmakar\\anaconda3\\lib\\site-packages (from ydata-profiling->pandas_profiling) (1.10.5)\n",
      "Requirement already satisfied: requests<2.29,>=2.24.0 in c:\\users\\shyamsundar karmakar\\anaconda3\\lib\\site-packages (from ydata-profiling->pandas_profiling) (2.24.0)\n",
      "Requirement already satisfied: seaborn<0.13,>=0.10.1 in c:\\users\\shyamsundar karmakar\\anaconda3\\lib\\site-packages (from ydata-profiling->pandas_profiling) (0.11.0)\n",
      "Requirement already satisfied: multimethod<1.10,>=1.4 in c:\\users\\shyamsundar karmakar\\anaconda3\\lib\\site-packages (from ydata-profiling->pandas_profiling) (1.9.1)\n",
      "Requirement already satisfied: matplotlib<3.7,>=3.2 in c:\\users\\shyamsundar karmakar\\anaconda3\\lib\\site-packages (from ydata-profiling->pandas_profiling) (3.3.2)\n",
      "Requirement already satisfied: phik<0.13,>=0.11.1 in c:\\users\\shyamsundar karmakar\\anaconda3\\lib\\site-packages (from ydata-profiling->pandas_profiling) (0.12.3)\n",
      "Requirement already satisfied: scipy<1.10,>=1.4.1 in c:\\users\\shyamsundar karmakar\\anaconda3\\lib\\site-packages (from ydata-profiling->pandas_profiling) (1.5.2)\n",
      "Requirement already satisfied: tqdm<4.65,>=4.48.2 in c:\\users\\shyamsundar karmakar\\anaconda3\\lib\\site-packages (from ydata-profiling->pandas_profiling) (4.50.2)\n",
      "Requirement already satisfied: statsmodels<0.14,>=0.13.2 in c:\\users\\shyamsundar karmakar\\anaconda3\\lib\\site-packages (from ydata-profiling->pandas_profiling) (0.13.5)\n",
      "Requirement already satisfied: pandas!=1.4.0,<1.6,>1.1 in c:\\users\\shyamsundar karmakar\\anaconda3\\lib\\site-packages (from ydata-profiling->pandas_profiling) (1.1.3)\n",
      "Requirement already satisfied: htmlmin==0.1.12 in c:\\users\\shyamsundar karmakar\\anaconda3\\lib\\site-packages (from ydata-profiling->pandas_profiling) (0.1.12)\n",
      "Requirement already satisfied: PyYAML<6.1,>=5.0.0 in c:\\users\\shyamsundar karmakar\\anaconda3\\lib\\site-packages (from ydata-profiling->pandas_profiling) (5.3.1)\n",
      "Requirement already satisfied: numpy<1.24,>=1.16.0 in c:\\users\\shyamsundar karmakar\\anaconda3\\lib\\site-packages (from ydata-profiling->pandas_profiling) (1.19.2)\n",
      "Requirement already satisfied: typeguard<2.14,>=2.13.2 in c:\\users\\shyamsundar karmakar\\anaconda3\\lib\\site-packages (from ydata-profiling->pandas_profiling) (2.13.3)\n",
      "Requirement already satisfied: MarkupSafe>=0.23 in c:\\users\\shyamsundar karmakar\\anaconda3\\lib\\site-packages (from jinja2<3.2,>=2.11.1->ydata-profiling->pandas_profiling) (1.1.1)\n",
      "Requirement already satisfied: networkx>=2.4 in c:\\users\\shyamsundar karmakar\\anaconda3\\lib\\site-packages (from visions[type_image_path]==0.7.5->ydata-profiling->pandas_profiling) (2.5)\n",
      "Requirement already satisfied: attrs>=19.3.0 in c:\\users\\shyamsundar karmakar\\anaconda3\\lib\\site-packages (from visions[type_image_path]==0.7.5->ydata-profiling->pandas_profiling) (20.3.0)\n",
      "Requirement already satisfied: tangled-up-in-unicode>=0.0.4 in c:\\users\\shyamsundar karmakar\\anaconda3\\lib\\site-packages (from visions[type_image_path]==0.7.5->ydata-profiling->pandas_profiling) (0.2.0)\n",
      "Requirement already satisfied: Pillow; extra == \"type_image_path\" in c:\\users\\shyamsundar karmakar\\anaconda3\\lib\\site-packages (from visions[type_image_path]==0.7.5->ydata-profiling->pandas_profiling) (8.0.1)\n",
      "Requirement already satisfied: imagehash; extra == \"type_image_path\" in c:\\users\\shyamsundar karmakar\\anaconda3\\lib\\site-packages (from visions[type_image_path]==0.7.5->ydata-profiling->pandas_profiling) (4.3.1)\n",
      "Requirement already satisfied: typing-extensions>=4.2.0 in c:\\users\\shyamsundar karmakar\\anaconda3\\lib\\site-packages (from pydantic<1.11,>=1.8.1->ydata-profiling->pandas_profiling) (4.5.0)\n",
      "Requirement already satisfied: certifi>=2017.4.17 in c:\\users\\shyamsundar karmakar\\anaconda3\\lib\\site-packages (from requests<2.29,>=2.24.0->ydata-profiling->pandas_profiling) (2020.6.20)\n",
      "Requirement already satisfied: chardet<4,>=3.0.2 in c:\\users\\shyamsundar karmakar\\anaconda3\\lib\\site-packages (from requests<2.29,>=2.24.0->ydata-profiling->pandas_profiling) (3.0.4)\n",
      "Requirement already satisfied: urllib3!=1.25.0,!=1.25.1,<1.26,>=1.21.1 in c:\\users\\shyamsundar karmakar\\anaconda3\\lib\\site-packages (from requests<2.29,>=2.24.0->ydata-profiling->pandas_profiling) (1.25.11)\n",
      "Requirement already satisfied: idna<3,>=2.5 in c:\\users\\shyamsundar karmakar\\anaconda3\\lib\\site-packages (from requests<2.29,>=2.24.0->ydata-profiling->pandas_profiling) (2.10)\n",
      "Requirement already satisfied: cycler>=0.10 in c:\\users\\shyamsundar karmakar\\anaconda3\\lib\\site-packages (from matplotlib<3.7,>=3.2->ydata-profiling->pandas_profiling) (0.10.0)\n",
      "Requirement already satisfied: pyparsing!=2.0.4,!=2.1.2,!=2.1.6,>=2.0.3 in c:\\users\\shyamsundar karmakar\\anaconda3\\lib\\site-packages (from matplotlib<3.7,>=3.2->ydata-profiling->pandas_profiling) (2.4.7)\n",
      "Requirement already satisfied: kiwisolver>=1.0.1 in c:\\users\\shyamsundar karmakar\\anaconda3\\lib\\site-packages (from matplotlib<3.7,>=3.2->ydata-profiling->pandas_profiling) (1.3.0)\n",
      "Requirement already satisfied: python-dateutil>=2.1 in c:\\users\\shyamsundar karmakar\\anaconda3\\lib\\site-packages (from matplotlib<3.7,>=3.2->ydata-profiling->pandas_profiling) (2.8.1)\n",
      "Requirement already satisfied: joblib>=0.14.1 in c:\\users\\shyamsundar karmakar\\anaconda3\\lib\\site-packages (from phik<0.13,>=0.11.1->ydata-profiling->pandas_profiling) (0.17.0)\n",
      "Requirement already satisfied: patsy>=0.5.2 in c:\\users\\shyamsundar karmakar\\anaconda3\\lib\\site-packages (from statsmodels<0.14,>=0.13.2->ydata-profiling->pandas_profiling) (0.5.3)\n",
      "Requirement already satisfied: packaging>=21.3 in c:\\users\\shyamsundar karmakar\\anaconda3\\lib\\site-packages (from statsmodels<0.14,>=0.13.2->ydata-profiling->pandas_profiling) (23.0)\n",
      "Requirement already satisfied: pytz>=2017.2 in c:\\users\\shyamsundar karmakar\\anaconda3\\lib\\site-packages (from pandas!=1.4.0,<1.6,>1.1->ydata-profiling->pandas_profiling) (2020.1)\n",
      "Requirement already satisfied: decorator>=4.3.0 in c:\\users\\shyamsundar karmakar\\anaconda3\\lib\\site-packages (from networkx>=2.4->visions[type_image_path]==0.7.5->ydata-profiling->pandas_profiling) (4.4.2)\n",
      "Requirement already satisfied: PyWavelets in c:\\users\\shyamsundar karmakar\\anaconda3\\lib\\site-packages (from imagehash; extra == \"type_image_path\"->visions[type_image_path]==0.7.5->ydata-profiling->pandas_profiling) (1.1.1)\n",
      "Requirement already satisfied: six in c:\\users\\shyamsundar karmakar\\anaconda3\\lib\\site-packages (from cycler>=0.10->matplotlib<3.7,>=3.2->ydata-profiling->pandas_profiling) (1.15.0)\n"
     ]
    }
   ],
   "source": [
    "!pip install pandas_profiling"
   ]
  },
  {
   "cell_type": "code",
   "execution_count": 66,
   "metadata": {},
   "outputs": [],
   "source": [
    "\n",
    "import pandas_profiling\n",
    "profile=data1.profile_report()"
   ]
  },
  {
   "cell_type": "code",
   "execution_count": 65,
   "metadata": {},
   "outputs": [
    {
     "data": {
      "application/vnd.jupyter.widget-view+json": {
       "model_id": "2a5869a2d4554142a27007e9fa9715dc",
       "version_major": 2,
       "version_minor": 0
      },
      "text/plain": [
       "HBox(children=(HTML(value='Summarize dataset'), FloatProgress(value=0.0, max=5.0), HTML(value='')))"
      ]
     },
     "metadata": {},
     "output_type": "display_data"
    },
    {
     "name": "stdout",
     "output_type": "stream",
     "text": [
      "\n"
     ]
    },
    {
     "data": {
      "application/vnd.jupyter.widget-view+json": {
       "model_id": "7c482c99fed84f50997bf3132786648c",
       "version_major": 2,
       "version_minor": 0
      },
      "text/plain": [
       "HBox(children=(HTML(value='Generate report structure'), FloatProgress(value=0.0, max=1.0), HTML(value='')))"
      ]
     },
     "metadata": {},
     "output_type": "display_data"
    },
    {
     "name": "stdout",
     "output_type": "stream",
     "text": [
      "\n"
     ]
    },
    {
     "data": {
      "application/vnd.jupyter.widget-view+json": {
       "model_id": "1b2ae1ba3aff445fb0f072d0e2814822",
       "version_major": 2,
       "version_minor": 0
      },
      "text/plain": [
       "HBox(children=(HTML(value='Render HTML'), FloatProgress(value=0.0, max=1.0), HTML(value='')))"
      ]
     },
     "metadata": {},
     "output_type": "display_data"
    },
    {
     "name": "stdout",
     "output_type": "stream",
     "text": [
      "\n"
     ]
    },
    {
     "data": {
      "application/vnd.jupyter.widget-view+json": {
       "model_id": "2893c32384a74f278c809830af1b7999",
       "version_major": 2,
       "version_minor": 0
      },
      "text/plain": [
       "HBox(children=(HTML(value='Export report to file'), FloatProgress(value=0.0, max=1.0), HTML(value='')))"
      ]
     },
     "metadata": {},
     "output_type": "display_data"
    },
    {
     "name": "stdout",
     "output_type": "stream",
     "text": [
      "\n"
     ]
    }
   ],
   "source": [
    "profile.to_file(output_file=\"output.html\")"
   ]
  },
  {
   "cell_type": "code",
   "execution_count": null,
   "metadata": {},
   "outputs": [],
   "source": []
  }
 ],
 "metadata": {
  "kernelspec": {
   "display_name": "Python 3",
   "language": "python",
   "name": "python3"
  },
  "language_info": {
   "codemirror_mode": {
    "name": "ipython",
    "version": 3
   },
   "file_extension": ".py",
   "mimetype": "text/x-python",
   "name": "python",
   "nbconvert_exporter": "python",
   "pygments_lexer": "ipython3",
   "version": "3.8.5"
  }
 },
 "nbformat": 4,
 "nbformat_minor": 4
}
